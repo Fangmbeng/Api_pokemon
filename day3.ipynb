{
 "cells": [
  {
   "cell_type": "code",
   "execution_count": 1,
   "metadata": {},
   "outputs": [
    {
     "name": "stdout",
     "output_type": "stream",
     "text": [
      "Python 3.9.1\n"
     ]
    }
   ],
   "source": [
    "!python --version"
   ]
  },
  {
   "cell_type": "code",
   "execution_count": 3,
   "metadata": {},
   "outputs": [
    {
     "name": "stdout",
     "output_type": "stream",
     "text": [
      "pip 20.2.4 from G:\\Anaconda\\lib\\site-packages\\pip (python 3.8)\n",
      "\n"
     ]
    }
   ],
   "source": [
    "!pip --version"
   ]
  },
  {
   "cell_type": "code",
   "execution_count": 5,
   "metadata": {},
   "outputs": [
    {
     "name": "stdout",
     "output_type": "stream",
     "text": [
      "G:\\Anaconda\\Scripts\\pip.exe\n",
      "C:\\Users\\Brandon\\AppData\\Local\\Programs\\Python\\Python39\\Scripts\\pip.exe\n"
     ]
    }
   ],
   "source": [
    "!where pip"
   ]
  },
  {
   "cell_type": "code",
   "execution_count": 6,
   "metadata": {},
   "outputs": [
    {
     "name": "stdout",
     "output_type": "stream",
     "text": [
      "Requirement already satisfied: requests in c:\\users\\brandon\\appdata\\local\\programs\\python\\python39\\lib\\site-packages (2.28.1)\n",
      "Requirement already satisfied: charset-normalizer<3,>=2 in c:\\users\\brandon\\appdata\\local\\programs\\python\\python39\\lib\\site-packages (from requests) (2.1.1)\n",
      "Requirement already satisfied: certifi>=2017.4.17 in c:\\users\\brandon\\appdata\\local\\programs\\python\\python39\\lib\\site-packages (from requests) (2022.12.7)\n",
      "Requirement already satisfied: idna<4,>=2.5 in c:\\users\\brandon\\appdata\\local\\programs\\python\\python39\\lib\\site-packages (from requests) (3.4)\n",
      "Requirement already satisfied: urllib3<1.27,>=1.21.1 in c:\\users\\brandon\\appdata\\local\\programs\\python\\python39\\lib\\site-packages (from requests) (1.26.13)\n",
      "Note: you may need to restart the kernel to use updated packages.\n"
     ]
    },
    {
     "name": "stderr",
     "output_type": "stream",
     "text": [
      "WARNING: You are using pip version 20.2.3; however, version 22.3.1 is available.\n",
      "You should consider upgrading via the 'c:\\Users\\Brandon\\AppData\\Local\\Programs\\Python\\Python39\\python.exe -m pip install --upgrade pip' command.\n"
     ]
    }
   ],
   "source": [
    "%pip install requests"
   ]
  },
  {
   "cell_type": "code",
   "execution_count": 3,
   "metadata": {},
   "outputs": [
    {
     "name": "stdout",
     "output_type": "stream",
     "text": [
      "<module 'requests' from 'c:\\\\Users\\\\Brandon\\\\AppData\\\\Local\\\\Programs\\\\Python\\\\Python39\\\\lib\\\\site-packages\\\\requests\\\\__init__.py'>\n"
     ]
    }
   ],
   "source": [
    "import requests\n",
    "print(requests)"
   ]
  },
  {
   "cell_type": "code",
   "execution_count": 4,
   "metadata": {},
   "outputs": [],
   "source": [
    "response = requests.get(\"https://pokeapi.co/api/v2/\")\n"
   ]
  },
  {
   "cell_type": "code",
   "execution_count": 5,
   "metadata": {},
   "outputs": [
    {
     "data": {
      "text/plain": [
       "{'ability': 'https://pokeapi.co/api/v2/ability/',\n",
       " 'berry': 'https://pokeapi.co/api/v2/berry/',\n",
       " 'berry-firmness': 'https://pokeapi.co/api/v2/berry-firmness/',\n",
       " 'berry-flavor': 'https://pokeapi.co/api/v2/berry-flavor/',\n",
       " 'characteristic': 'https://pokeapi.co/api/v2/characteristic/',\n",
       " 'contest-effect': 'https://pokeapi.co/api/v2/contest-effect/',\n",
       " 'contest-type': 'https://pokeapi.co/api/v2/contest-type/',\n",
       " 'egg-group': 'https://pokeapi.co/api/v2/egg-group/',\n",
       " 'encounter-condition': 'https://pokeapi.co/api/v2/encounter-condition/',\n",
       " 'encounter-condition-value': 'https://pokeapi.co/api/v2/encounter-condition-value/',\n",
       " 'encounter-method': 'https://pokeapi.co/api/v2/encounter-method/',\n",
       " 'evolution-chain': 'https://pokeapi.co/api/v2/evolution-chain/',\n",
       " 'evolution-trigger': 'https://pokeapi.co/api/v2/evolution-trigger/',\n",
       " 'gender': 'https://pokeapi.co/api/v2/gender/',\n",
       " 'generation': 'https://pokeapi.co/api/v2/generation/',\n",
       " 'growth-rate': 'https://pokeapi.co/api/v2/growth-rate/',\n",
       " 'item': 'https://pokeapi.co/api/v2/item/',\n",
       " 'item-attribute': 'https://pokeapi.co/api/v2/item-attribute/',\n",
       " 'item-category': 'https://pokeapi.co/api/v2/item-category/',\n",
       " 'item-fling-effect': 'https://pokeapi.co/api/v2/item-fling-effect/',\n",
       " 'item-pocket': 'https://pokeapi.co/api/v2/item-pocket/',\n",
       " 'language': 'https://pokeapi.co/api/v2/language/',\n",
       " 'location': 'https://pokeapi.co/api/v2/location/',\n",
       " 'location-area': 'https://pokeapi.co/api/v2/location-area/',\n",
       " 'machine': 'https://pokeapi.co/api/v2/machine/',\n",
       " 'move': 'https://pokeapi.co/api/v2/move/',\n",
       " 'move-ailment': 'https://pokeapi.co/api/v2/move-ailment/',\n",
       " 'move-battle-style': 'https://pokeapi.co/api/v2/move-battle-style/',\n",
       " 'move-category': 'https://pokeapi.co/api/v2/move-category/',\n",
       " 'move-damage-class': 'https://pokeapi.co/api/v2/move-damage-class/',\n",
       " 'move-learn-method': 'https://pokeapi.co/api/v2/move-learn-method/',\n",
       " 'move-target': 'https://pokeapi.co/api/v2/move-target/',\n",
       " 'nature': 'https://pokeapi.co/api/v2/nature/',\n",
       " 'pal-park-area': 'https://pokeapi.co/api/v2/pal-park-area/',\n",
       " 'pokeathlon-stat': 'https://pokeapi.co/api/v2/pokeathlon-stat/',\n",
       " 'pokedex': 'https://pokeapi.co/api/v2/pokedex/',\n",
       " 'pokemon': 'https://pokeapi.co/api/v2/pokemon/',\n",
       " 'pokemon-color': 'https://pokeapi.co/api/v2/pokemon-color/',\n",
       " 'pokemon-form': 'https://pokeapi.co/api/v2/pokemon-form/',\n",
       " 'pokemon-habitat': 'https://pokeapi.co/api/v2/pokemon-habitat/',\n",
       " 'pokemon-shape': 'https://pokeapi.co/api/v2/pokemon-shape/',\n",
       " 'pokemon-species': 'https://pokeapi.co/api/v2/pokemon-species/',\n",
       " 'region': 'https://pokeapi.co/api/v2/region/',\n",
       " 'stat': 'https://pokeapi.co/api/v2/stat/',\n",
       " 'super-contest-effect': 'https://pokeapi.co/api/v2/super-contest-effect/',\n",
       " 'type': 'https://pokeapi.co/api/v2/type/',\n",
       " 'version': 'https://pokeapi.co/api/v2/version/',\n",
       " 'version-group': 'https://pokeapi.co/api/v2/version-group/'}"
      ]
     },
     "execution_count": 5,
     "metadata": {},
     "output_type": "execute_result"
    }
   ],
   "source": [
    "response.json()"
   ]
  },
  {
   "cell_type": "code",
   "execution_count": 6,
   "metadata": {},
   "outputs": [],
   "source": [
    "poke_mon = response.json()"
   ]
  },
  {
   "cell_type": "code",
   "execution_count": 1,
   "metadata": {},
   "outputs": [],
   "source": [
    "class pokemon1():\n",
    "    api_url = \"https://pokeapi.co/api/v2/pokemon/\"\n",
    "    \n",
    "    def _get(self):\n",
    "        poke_mon1 = requests.get(api_url)\n",
    "        return poke_mon1.json()\n",
    "\n",
    "    def get_(self, poke_name):\n",
    "        poke_name = input(\"Pokemon: \")\n",
    "        if poke_name == poke_mon.key():\n",
    "            print(poke_name)\n",
    "                  \n",
    "poke_mon = pokemon1()\n",
    "print(poke_mon.get_(\"limber\"))"
   ]
  }
 ],
 "metadata": {
  "kernelspec": {
   "display_name": "Python 3",
   "language": "python",
   "name": "python3"
  },
  "language_info": {
   "codemirror_mode": {
    "name": "ipython",
    "version": 3
   },
   "file_extension": ".py",
   "mimetype": "text/x-python",
   "name": "python",
   "nbconvert_exporter": "python",
   "pygments_lexer": "ipython3",
   "version": "3.9.1"
  },
  "orig_nbformat": 4,
  "vscode": {
   "interpreter": {
    "hash": "ffc532ed8a784cdfb8a39261f01be3d3895cee2e2b54e8698a7318bacbcb2147"
   }
  }
 },
 "nbformat": 4,
 "nbformat_minor": 2
}
